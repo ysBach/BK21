{
 "cells": [
  {
   "cell_type": "markdown",
   "metadata": {},
   "source": [
    "## Checking versions\n",
    "아래는 버전 확인을 위한 셀이며, 안돌아가면 돌리지 마세요..!"
   ]
  },
  {
   "cell_type": "code",
   "execution_count": 1,
   "metadata": {},
   "outputs": [
    {
     "name": "stdout",
     "output_type": "stream",
     "text": [
      "This notebook was generated at 2020-04-15 17:43:54 (KST = GMT+0900) \n",
      "0 Python     3.7.6 64bit [Clang 4.0.1 (tags/RELEASE_401/final)]\n",
      "1 IPython    7.13.0\n",
      "2 OS         Darwin 18.7.0 x86_64 i386 64bit\n",
      "3 requests   2.23.0\n",
      "4 tqdm       4.43.0\n",
      "5 pandas     1.0.3\n",
      "6 astroquery 0.4.1.dev5959\n",
      "7 version_information 1.0.3\n"
     ]
    }
   ],
   "source": [
    "%load_ext version_information\n",
    "import time\n",
    "now = time.strftime(\"%Y-%m-%d %H:%M:%S (%Z = GMT%z)\")\n",
    "print(f\"This notebook was generated at {now} \")\n",
    "\n",
    "vv = %version_information requests, tqdm, pandas, astroquery, version_information\n",
    "for i, pkg in enumerate(vv.packages):\n",
    "    print(f\"{i} {pkg[0]:10s} {pkg[1]:s}\")"
   ]
  },
  {
   "cell_type": "markdown",
   "metadata": {},
   "source": [
    "## Importing and Setting Up"
   ]
  },
  {
   "cell_type": "code",
   "execution_count": 2,
   "metadata": {},
   "outputs": [],
   "source": [
    "import math\n",
    "import requests\n",
    "import time\n",
    "from itertools import product\n",
    "from pathlib import Path\n",
    "import pandas as pd\n",
    "from astroquery import nasa_ads as na\n",
    "from tqdm import tqdm\n",
    "\n",
    "# helped from https://stackoverflow.com/questions/37573483/progress-bar-while-download-file-over-http-with-requests\n",
    "def download_pdf(response, fpath):\n",
    "    total_size = int(response.headers.get('content-length', 0)); \n",
    "    block_size = 1024\n",
    "    wrote = 0 \n",
    "    with open(fpath, 'wb') as f:\n",
    "        for data in tqdm(response.iter_content(block_size), total=math.ceil(total_size//block_size), unit='kB', unit_scale=True):\n",
    "            wrote = wrote + len(data)\n",
    "            f.write(data)\n",
    "#     if total_size != 0 and wrote != total_size:\n",
    "#         print(\"ERROR, something went wrong\")  \n",
    "\n",
    "def altnames(fullname):\n",
    "    names = [fullname]\n",
    "    lastname = fullname.split(', ')[0]\n",
    "    firstmiddle_names = fullname.split(', ')[-1].split(' ')\n",
    "    N = len(firstmiddle_names)\n",
    "    pieces = {'0':firstmiddle_names, '1':[]}  # 0/1 = full/initial\n",
    "    \n",
    "    for n in firstmiddle_names:\n",
    "        pieces['1'].append('{}.'.format(n[0].upper()))\n",
    "    \n",
    "    for ind in product('012', repeat=N):\n",
    "        altname = ''\n",
    "        for i, case in enumerate(ind):\n",
    "            if case != '2':\n",
    "                altname += \"{} \".format(pieces[case][i])\n",
    "        if altname == '':\n",
    "            continue\n",
    "        names.append(\"{}, {}\".format(lastname, altname[:-1]))    \n",
    "    \n",
    "    return list(set(names))"
   ]
  },
  {
   "cell_type": "markdown",
   "metadata": {},
   "source": [
    "## Team Member Setting"
   ]
  },
  {
   "cell_type": "markdown",
   "metadata": {},
   "source": [
    "**Define team members.**\n",
    "\n",
    "``altnames``에 이니셜 등을 사용하는 경우가 자동으로 저장됩니다. (If multiple names are there, add as separate person. ``altnames`` are the alternative combinations of initials of middle/first names.)\n",
    "\n",
    "* NOTE: Middle name은 이니셜로 써도 되나, 원 저자가 사용하는 방식에 맞추는 게 좋습니다 (Middle name can be either expanded or used as an initial. If the author always use full middle name in publications, it's better to give the full name here.)"
   ]
  },
  {
   "cell_type": "code",
   "execution_count": 3,
   "metadata": {},
   "outputs": [
    {
     "data": {
      "text/html": [
       "<div>\n",
       "<style scoped>\n",
       "    .dataframe tbody tr th:only-of-type {\n",
       "        vertical-align: middle;\n",
       "    }\n",
       "\n",
       "    .dataframe tbody tr th {\n",
       "        vertical-align: top;\n",
       "    }\n",
       "\n",
       "    .dataframe thead th {\n",
       "        text-align: right;\n",
       "    }\n",
       "</style>\n",
       "<table border=\"1\" class=\"dataframe\">\n",
       "  <thead>\n",
       "    <tr style=\"text-align: right;\">\n",
       "      <th></th>\n",
       "      <th>names</th>\n",
       "      <th>kornames</th>\n",
       "      <th>researcher_number</th>\n",
       "      <th>altnames</th>\n",
       "    </tr>\n",
       "  </thead>\n",
       "  <tbody>\n",
       "    <tr>\n",
       "      <th>0</th>\n",
       "      <td>Ishiguro, Masateru</td>\n",
       "      <td>이시구로 마사테루</td>\n",
       "      <td>1111</td>\n",
       "      <td>[Ishiguro, Masateru, Ishiguro, M.]</td>\n",
       "    </tr>\n",
       "    <tr>\n",
       "      <th>1</th>\n",
       "      <td>Yoonsoo P. Bach</td>\n",
       "      <td>박윤수</td>\n",
       "      <td>1212</td>\n",
       "      <td>[Yoonsoo P. Bach, P., Yoonsoo P. Bach, Yoonsoo...</td>\n",
       "    </tr>\n",
       "  </tbody>\n",
       "</table>\n",
       "</div>"
      ],
      "text/plain": [
       "                names   kornames  researcher_number  \\\n",
       "0  Ishiguro, Masateru  이시구로 마사테루               1111   \n",
       "1     Yoonsoo P. Bach        박윤수               1212   \n",
       "\n",
       "                                            altnames  \n",
       "0                 [Ishiguro, Masateru, Ishiguro, M.]  \n",
       "1  [Yoonsoo P. Bach, P., Yoonsoo P. Bach, Yoonsoo...  "
      ]
     },
     "execution_count": 3,
     "metadata": {},
     "output_type": "execute_result"
    }
   ],
   "source": [
    "team = dict(\n",
    "    names=[\"Ishiguro, Masateru\", \"Yoonsoo P. Bach\"],\n",
    "    kornames=[\"이시구로 마사테루\", \"박윤수\"],\n",
    "    researcher_number=[1111,1212],\n",
    "    altnames=[]\n",
    ")\n",
    "\n",
    "for name in team[\"names\"]:\n",
    "    team[\"altnames\"].append(altnames(name))\n",
    "\n",
    "\n",
    "team_df = pd.DataFrame.from_dict(team)\n",
    "team_df"
   ]
  },
  {
   "cell_type": "markdown",
   "metadata": {},
   "source": [
    "원래 ``team`` 에는 **학생들만** 넣어야 됩니다. 여기서는 테스트를 위해 이시구로 교수님과 저를 넣었고, 마치 임명신 교수님이 지도교수님인 것으로 가정하여 아래 결과를 출력했습니다.\n",
    "\n",
    "* **NOTE**: You may make many different such excel/csv/txt files and load them by ``pd.read_csv``, etc."
   ]
  },
  {
   "cell_type": "markdown",
   "metadata": {},
   "source": [
    "## Query to ADS"
   ]
  },
  {
   "cell_type": "markdown",
   "metadata": {},
   "source": [
    "ADS에서 찾을 때, 지도교수가 포함되지 않은 채로 나온 논문은 없다고 가정합니다. 즉, 찾는 방식은\n",
    "\n",
    "1. 지도교수 이름으로 ADS를 싹 다 검색한다. (아래 ``author`` 수정할 것)\n",
    "2. 그 중에서 위에 ``team``으로 저장된 사람들이 끼어있는 논문의 경우 어느 학생인지를 추가로 기입한다.\n",
    "\n",
    "입니다.\n",
    "\n",
    "**IMPORTANT**: ADS에서 개인 API토큰을 발급받아야 합니다.\n",
    "\n",
    "1. Go to [ADS](https://ui.adsabs.harvard.edu/), log in. \n",
    "2. Then go to [Account - Settings - API Token](https://ui.adsabs.harvard.edu/user/settings/token). \n",
    "3. Generate your token.\n",
    "4. Copy and paste it to ``na.ADS.TOKEN`` below:"
   ]
  },
  {
   "cell_type": "code",
   "execution_count": 4,
   "metadata": {},
   "outputs": [
    {
     "name": "stdout",
     "output_type": "stream",
     "text": [
      "Query with: \n",
      "\t author:\"=Im, Myungshin\" year:2019-2020\n",
      "ADS contains 55 match with <Im, Myungshin> (refreed: 15) in 2019-2020.\n",
      "\n",
      "Hey  Myungshin, you are awesome...!\n"
     ]
    }
   ],
   "source": [
    "na.ADS.TOKEN = 'Your_API_Token_Here'\n",
    "\n",
    "# by default, the top 10 records are returned, sorted in\n",
    "# reverse chronological order. This can be changed\n",
    "na.ADS.NROWS = 9999\n",
    "\n",
    "# change the fields that are returned (enter as strings in a list)\n",
    "na.ADS.ADS_FIELDS = [\"title\", \"bibcode\", \"author\", \"pubdate\", \"property\", \"esources\",\n",
    "                     \"pub\", \"issn\", \"volume\", \"issue\", \"page\", \"doi\", \"arxiv\", \"bibstem\", \"database\"]\n",
    "\n",
    "author = \"Im, Myungshin\" # <<---- Professor's name\n",
    "year = \"2019-2020\"\n",
    "query_str = f'author:\"={author}\" year:{year}'\n",
    "print(f\"Query with: \\n\\t {query_str}\")\n",
    "results_raw = na.ADS.query_simple(query_str)\n",
    "\n",
    "results_raw.sort(['pubdate', \"title\"])\n",
    "\n",
    "# flatten the shape to convert to pandas... \n",
    "# I currently don't know what bad thing will happen.\n",
    "# It was OK when I tested for my personal purposes.\n",
    "for c in results_raw.colnames:\n",
    "    if len(results_raw[c].shape) > 1:\n",
    "        results_raw[c] = results_raw[c][:, 0]\n",
    "\n",
    "results = results_raw.to_pandas()\n",
    "\n",
    "results[\"N_author\"] = results[\"author\"].str.len()\n",
    "results[\"YYYYMM\"] = results[\"pubdate\"].str[:-3].str.replace(\"-\", \"\").astype(int)\n",
    "results[\"refereed\"] = [True if \"REFEREED\" in row[\"property\"] else False for i, row in results.iterrows()]\n",
    "results[\"astronomy\"] = [True if \"astronomy\" in row[\"database\"] else False for i, row in results.iterrows()]\n",
    "results[\"volume\"] = [-1 if row[\"volume\"]==[None] else row[\"volume\"] for i, row in results.iterrows()]\n",
    "\n",
    "results_ref = results[((results[\"refereed\"]==True) \n",
    "                      & (results[\"astronomy\"]==True) \n",
    "                      & (results[\"volume\"] != -1))]\n",
    "\n",
    "print(f\"ADS contains {len(results)} match with <{author}> (refreed: {len(results_ref)}) in {year}.\")\n",
    "if len(results_ref) > 5:\n",
    "    print(f\"\\nHey {author.split(',')[1]}, you are awesome...!\")"
   ]
  },
  {
   "cell_type": "markdown",
   "metadata": {},
   "source": [
    "* **NOTE**: If you want to search for your results, change the ``query_str``.\n",
    "* **NOTE**: See http://adsabs.github.io/help/search/comprehensive-solr-term-list for the complete list of columns.\n",
    "* ~~**NOTE**: As of 2019-07-02, the ``issn`` is not yet supported from ADS.~~ It seems like it's now supported (2020-04-15)"
   ]
  },
  {
   "cell_type": "markdown",
   "metadata": {},
   "source": [
    "## Select Rows for This BK Survey\n",
    "연월은 ``201908 <= YYYYMM <= 202001``로 선택했습니다. 또한 BK21측에서 준 엑셀에 따라 아래 정보만 취합했습니다.\n",
    "\n",
    "1. title\n",
    "2. journal (full name) ``pub``\n",
    "3. doi \n",
    "3. issn \n",
    "4. volume \n",
    "5. issue\n",
    "6. page\n",
    "7. YYYYMM\n",
    "8. number of authors \n",
    "\n",
    "(이 순서로). 그리고 나서 학생들 이름과 KRI연구자등록번호를 추가했습니다. ``BKoutput.csv``로 저장됩니다.\n",
    "\n",
    "(It will be saved as ``BKoutput.csv`` and you can open it with Excel, copy-and-paste to the original Excel file. **WARNING**: The formatting is crazy in the original Excel from BK (it got better in 2020 but it was horrible in 2019), so you should do it by yourself.)"
   ]
  },
  {
   "cell_type": "code",
   "execution_count": 5,
   "metadata": {},
   "outputs": [],
   "source": [
    "results_ref_thisyear = results_ref[(results_ref[\"YYYYMM\"] >= 201908) \n",
    "                                 & (results_ref[\"YYYYMM\"] <= 202001)]\n",
    "results_ref_bk = results_ref_thisyear[\n",
    "    [\"author\", \"title\", 'doi', \"pub\", \"issn\", \n",
    "     \"volume\", \"issue\", \"page\", \"YYYYMM\", \"N_author\"]\n",
    "]\n",
    "results_ref_bk[\"students\"] = \"\"\n",
    "results_ref_bk[\"researcher_number\"] = \"\"\n",
    "\n",
    "\n",
    "for i, row in results_ref_bk.iterrows():\n",
    "    students = \"\"\n",
    "    researcher_number = \"\"\n",
    "    for _, student in team_df.iterrows():\n",
    "        student_names = student[\"altnames\"]\n",
    "        for name in student_names:\n",
    "            if name in row[\"author\"]:\n",
    "                students += \"{},\".format(student[\"kornames\"])\n",
    "                researcher_number += \"{},\".format(student[\"researcher_number\"])\n",
    "    results_ref_bk.at[i, \"students\"] = students[:-1]\n",
    "    results_ref_bk.at[i, \"researcher_number\"] = researcher_number[:-1]\n",
    "    \n",
    "\n",
    "# del results_ref_thisyear[\"author\"]\n",
    "results_ref_bk.to_csv(\"BKoutput.csv\", index=False)"
   ]
  },
  {
   "cell_type": "code",
   "execution_count": 6,
   "metadata": {},
   "outputs": [
    {
     "data": {
      "text/html": [
       "<div>\n",
       "<style scoped>\n",
       "    .dataframe tbody tr th:only-of-type {\n",
       "        vertical-align: middle;\n",
       "    }\n",
       "\n",
       "    .dataframe tbody tr th {\n",
       "        vertical-align: top;\n",
       "    }\n",
       "\n",
       "    .dataframe thead th {\n",
       "        text-align: right;\n",
       "    }\n",
       "</style>\n",
       "<table border=\"1\" class=\"dataframe\">\n",
       "  <thead>\n",
       "    <tr style=\"text-align: right;\">\n",
       "      <th></th>\n",
       "      <th>author</th>\n",
       "      <th>title</th>\n",
       "      <th>doi</th>\n",
       "      <th>pub</th>\n",
       "      <th>issn</th>\n",
       "      <th>volume</th>\n",
       "      <th>issue</th>\n",
       "      <th>page</th>\n",
       "      <th>YYYYMM</th>\n",
       "      <th>N_author</th>\n",
       "      <th>students</th>\n",
       "      <th>researcher_number</th>\n",
       "    </tr>\n",
       "  </thead>\n",
       "  <tbody>\n",
       "    <tr>\n",
       "      <th>37</th>\n",
       "      <td>[Kriss, G. A., De Rosa, G., Ely, J., Peterson,...</td>\n",
       "      <td>Space Telescope and Optical Reverberation Mapp...</td>\n",
       "      <td>10.3847/1538-4357/ab3049</td>\n",
       "      <td>The Astrophysical Journal</td>\n",
       "      <td>0004-637X</td>\n",
       "      <td>881</td>\n",
       "      <td>2</td>\n",
       "      <td>153</td>\n",
       "      <td>201908</td>\n",
       "      <td>167</td>\n",
       "      <td></td>\n",
       "      <td></td>\n",
       "    </tr>\n",
       "    <tr>\n",
       "      <th>38</th>\n",
       "      <td>[Kwon, Yuna G., Ishiguro, Masateru, Kwon, Jung...</td>\n",
       "      <td>Near-infrared polarimetric study of near-Earth...</td>\n",
       "      <td>10.1051/0004-6361/201935542</td>\n",
       "      <td>Astronomy and Astrophysics</td>\n",
       "      <td>0004-6361</td>\n",
       "      <td>629</td>\n",
       "      <td>[None]</td>\n",
       "      <td>A121</td>\n",
       "      <td>201909</td>\n",
       "      <td>10</td>\n",
       "      <td>이시구로 마사테루</td>\n",
       "      <td>1111</td>\n",
       "    </tr>\n",
       "    <tr>\n",
       "      <th>39</th>\n",
       "      <td>[Kim, Joonho, Im, Myungshin, Choi, Changsu, Hw...</td>\n",
       "      <td>Medium-band Photometry Reverberation Mapping o...</td>\n",
       "      <td>10.3847/1538-4357/ab40cd</td>\n",
       "      <td>The Astrophysical Journal</td>\n",
       "      <td>0004-637X</td>\n",
       "      <td>884</td>\n",
       "      <td>2</td>\n",
       "      <td>103</td>\n",
       "      <td>201910</td>\n",
       "      <td>4</td>\n",
       "      <td></td>\n",
       "      <td></td>\n",
       "    </tr>\n",
       "    <tr>\n",
       "      <th>40</th>\n",
       "      <td>[Harikane, Yuichi, Ouchi, Masami, Ono, Yoshiak...</td>\n",
       "      <td>SILVERRUSH. VIII. Spectroscopic Identification...</td>\n",
       "      <td>10.3847/1538-4357/ab2cd5</td>\n",
       "      <td>The Astrophysical Journal</td>\n",
       "      <td>0004-637X</td>\n",
       "      <td>883</td>\n",
       "      <td>2</td>\n",
       "      <td>142</td>\n",
       "      <td>201910</td>\n",
       "      <td>35</td>\n",
       "      <td></td>\n",
       "      <td></td>\n",
       "    </tr>\n",
       "    <tr>\n",
       "      <th>42</th>\n",
       "      <td>[Lee, Seong-Kook, Im, Myungshin, Hyun, Minhee,...</td>\n",
       "      <td>More connected, more active: galaxy clusters a...</td>\n",
       "      <td>10.1093/mnras/stz2564</td>\n",
       "      <td>Monthly Notices of the Royal Astronomical Society</td>\n",
       "      <td>0035-8711</td>\n",
       "      <td>490</td>\n",
       "      <td>1</td>\n",
       "      <td>135</td>\n",
       "      <td>201911</td>\n",
       "      <td>7</td>\n",
       "      <td></td>\n",
       "      <td></td>\n",
       "    </tr>\n",
       "  </tbody>\n",
       "</table>\n",
       "</div>"
      ],
      "text/plain": [
       "                                               author  \\\n",
       "37  [Kriss, G. A., De Rosa, G., Ely, J., Peterson,...   \n",
       "38  [Kwon, Yuna G., Ishiguro, Masateru, Kwon, Jung...   \n",
       "39  [Kim, Joonho, Im, Myungshin, Choi, Changsu, Hw...   \n",
       "40  [Harikane, Yuichi, Ouchi, Masami, Ono, Yoshiak...   \n",
       "42  [Lee, Seong-Kook, Im, Myungshin, Hyun, Minhee,...   \n",
       "\n",
       "                                                title  \\\n",
       "37  Space Telescope and Optical Reverberation Mapp...   \n",
       "38  Near-infrared polarimetric study of near-Earth...   \n",
       "39  Medium-band Photometry Reverberation Mapping o...   \n",
       "40  SILVERRUSH. VIII. Spectroscopic Identification...   \n",
       "42  More connected, more active: galaxy clusters a...   \n",
       "\n",
       "                            doi  \\\n",
       "37     10.3847/1538-4357/ab3049   \n",
       "38  10.1051/0004-6361/201935542   \n",
       "39     10.3847/1538-4357/ab40cd   \n",
       "40     10.3847/1538-4357/ab2cd5   \n",
       "42        10.1093/mnras/stz2564   \n",
       "\n",
       "                                                  pub       issn volume  \\\n",
       "37                          The Astrophysical Journal  0004-637X    881   \n",
       "38                         Astronomy and Astrophysics  0004-6361    629   \n",
       "39                          The Astrophysical Journal  0004-637X    884   \n",
       "40                          The Astrophysical Journal  0004-637X    883   \n",
       "42  Monthly Notices of the Royal Astronomical Society  0035-8711    490   \n",
       "\n",
       "     issue  page  YYYYMM  N_author   students researcher_number  \n",
       "37       2   153  201908       167                               \n",
       "38  [None]  A121  201909        10  이시구로 마사테루              1111  \n",
       "39       2   103  201910         4                               \n",
       "40       2   142  201910        35                               \n",
       "42       1   135  201911         7                               "
      ]
     },
     "execution_count": 6,
     "metadata": {},
     "output_type": "execute_result"
    }
   ],
   "source": [
    "results_ref_bk"
   ]
  },
  {
   "cell_type": "markdown",
   "metadata": {},
   "source": [
    "## Download the PDF Files of the Papers\n",
    "\n",
    "I will use the ADS web link and try\n",
    "1. to access to the publisher's PDF if available\n",
    "  - For Science, the publisher's PDF link is not directed to the full pdf, so I added some conditional clause.\n",
    "2. if unavailable, I tried something\n",
    "  - Nature, for example, adding ``.pdf`` seem to direct you to the pdf.\n",
    "  \n",
    "As time goes, I will add more exceptions so that it works as perfect as possible."
   ]
  },
  {
   "cell_type": "code",
   "execution_count": 7,
   "metadata": {},
   "outputs": [
    {
     "name": "stdout",
     "output_type": "stream",
     "text": [
      "2019ApJ...881..153K.pdf Downloading... \n",
      "\thttps://iopscience.iop.org/article/10.3847/1538-4357/ab3049/pdf\n"
     ]
    },
    {
     "name": "stderr",
     "output_type": "stream",
     "text": [
      "4.58kkB [00:42, 108kB/s] \n"
     ]
    },
    {
     "name": "stdout",
     "output_type": "stream",
     "text": [
      "2019A&A...629A.121K.pdf Downloading... \n",
      "\thttps://www.aanda.org/articles/aa/pdf/2019/09/aa35542-19.pdf\n"
     ]
    },
    {
     "name": "stderr",
     "output_type": "stream",
     "text": [
      "2.09kkB [00:01, 1.19kkB/s]                           \n"
     ]
    },
    {
     "name": "stdout",
     "output_type": "stream",
     "text": [
      "2019ApJ...884..103K.pdf Downloading... \n",
      "\thttps://iopscience.iop.org/article/10.3847/1538-4357/ab40cd/pdf\n"
     ]
    },
    {
     "name": "stderr",
     "output_type": "stream",
     "text": [
      "1.05kkB [00:01, 743kB/s]\n"
     ]
    },
    {
     "name": "stdout",
     "output_type": "stream",
     "text": [
      "2019ApJ...883..142H.pdf Downloading... \n",
      "\thttps://iopscience.iop.org/article/10.3847/1538-4357/ab2cd5/pdf\n"
     ]
    },
    {
     "name": "stderr",
     "output_type": "stream",
     "text": [
      "3.50kkB [00:08, 404kB/s]\n"
     ]
    },
    {
     "name": "stdout",
     "output_type": "stream",
     "text": [
      "2019MNRAS.490..135L.pdf Downloading... \n",
      "\thttps://watermark.silverchair.com/stz2564.pdf?token=AQECAHi208BE49Ooan9kkhW_Ercy7Dm3ZL_9Cf3qfKAc485ysgAAAn4wggJ6BgkqhkiG9w0BBwagggJrMIICZwIBADCCAmAGCSqGSIb3DQEHATAeBglghkgBZQMEAS4wEQQMQEslZu3LTBFcv5tfAgEQgIICMS4xjGJHDP996MdajWeovrNvcE4BraMxsg4Su9IMoO98cnrpeKZchoD3W7hnVbaUICxhz6OiOULR2a1p8E0F93eOHauBIhd6ju7hyFoLVJGG6DuzzRkS6jzX4QBxkcxKbVZY1sk5rxaHEs57IsHhGemXi_CSBu7_b-Q7tpc2jH7IqvCY9lQXaL--LH-dPyqAVy2kJMu_XashuZ8x9DuPwn7Q0hsOHMTu-46xYNfMN-BEiHbHYf2s7BE6MQORTdQdBxQDCnvVeFWaDuL7YAOWSnq8BdLgE7uarazdD5oIIBhS2cN0Qq8XwCgOykcTELxwSXUI1LNCkcIz55yvXzxSbVtn4ObbEPDaBT5RSCfjGd1yVpXI_NoNd4-OVA2ZoGy5e3v1d0-blHosKzXRB_k3N1t9ordK9_l1PRZIRse23T_6f9kj9mMexSNvsOAGSoxeS7yk_iDKgh7gShtoDpwVckxOsZgfKu7ErzpI1t6AhhRhzdr1OpZuxFjbUDdqyGPUjfWGa5KaWDZRrlF2fkxTOpPgxwyh8_9uXaw_7SIjYnhtLRnXi48kfs6hIywor0BRZmwCfgpDq4hxcT04KY0-RopXGLGlRewxQ-f7pjH0LCpn1bBE0eFekII5nCqBRdOvtHyaoXzl9F1H4YRsw_wloxdFI5rF5ukvSGSqSeCRKu0NcnciWHSa--HIYTWZoPOkZXxUKHp4cfHWUcS1tgFxYY22xcOfj4J1-aUwYX3lo5uAyw\n"
     ]
    },
    {
     "name": "stderr",
     "output_type": "stream",
     "text": [
      "3.98kkB [00:23, 169kB/s]                            \n"
     ]
    }
   ],
   "source": [
    "BASE = \"https://ui.adsabs.harvard.edu/link_gateway/\"\n",
    "# helped from https://stackoverflow.com/questions/43165341/python3-requests-connectionerror-connection-aborted-oserror104-econnr/43167631\n",
    "manual = dict(bib=[], pub_html=[])\n",
    "headers = requests.utils.default_headers()\n",
    "headers['User-Agent'] = 'Mozilla/5.0 (X11; Linux x86_64) AppleWebKit/537.36 (KHTML, like Gecko) Chrome/56.0.2924.87 Safari/537.36'\n",
    "\n",
    "for i, row in results_ref_thisyear.iterrows():\n",
    "    bib = row[\"bibcode\"]\n",
    "    fpath = Path('{}.pdf'.format(bib))\n",
    "    print(fpath, end=' ')\n",
    "    \n",
    "    if fpath.exists():\n",
    "        print('already exists!'.format(bib))\n",
    "        continue\n",
    "        \n",
    "    if \"PUB_PDF\" in row[\"esources\"]:\n",
    "        url = BASE + row[\"bibcode\"] + \"/PUB_PDF\"\n",
    "        print('Downloading...'.format(bib), end=' ')\n",
    "\n",
    "        response = requests.get(url, headers=headers, stream=True)\n",
    "        \n",
    "        if \"Science\" in row[\"pub\"]:\n",
    "            if response.url.endswith(\"/tab-pdf\"):\n",
    "                url = response.url.replace(\"/tab-pdf\", \".full.pdf\")\n",
    "            else:\n",
    "                url = response.url + \".full.pdf\"\n",
    "            response = requests.get(url, headers=headers, stream=True)\n",
    "\n",
    "        print(\"\\n\\t\" + response.url)\n",
    "        time.sleep(1)\n",
    "        \n",
    "        download_pdf(response, fpath)\n",
    "\n",
    "    else:\n",
    "        try:\n",
    "            print(\"trying to find pdf...\", end=' ')\n",
    "            url = BASE + row[\"bibcode\"] + \"/PUB_HTML\"\n",
    "            response = requests.get(url, headers=headers, stream=True)\n",
    "            if \"nature.com\" in response.url:\n",
    "                url = response.url + \".pdf\"\n",
    "            else:\n",
    "                raise ConnectionError()\n",
    "            response = requests.get(url, headers=headers, stream=True)\n",
    "            if response.status_code == 404:\n",
    "                raise ConnectionError()\n",
    "            print('I found it! Downloading...'.format(bib), end=' ')\n",
    "            print(\"\\n\\t\" + response.url)\n",
    "            time.sleep(1)\n",
    "        \n",
    "            download_pdf(response, fpath)\n",
    "            \n",
    "        except ConnectionError:            \n",
    "            print(\"\\n!!! I couldn't find a valid link. Download from below:\".format(bib))\n",
    "            print(\"\\t\" + BASE + bib + \"/PUB_HTML\")\n",
    "            manual[\"bib\"].append(bib)\n",
    "            manual[\"pub_html\"].append(BASE + bib + \"/PUB_HTML\")"
   ]
  },
  {
   "cell_type": "markdown",
   "metadata": {},
   "source": [
    "* **WARNING**: You may have some papers that are accepted but not on ADS yet. You **MUST** find those by yourself!!!\n",
    "* **NOTE**: I didn't put much effort to automatize the \"paper download link finding\" algorithm. But anyway it gives the link to PDF download, it may save a lot of time."
   ]
  },
  {
   "cell_type": "code",
   "execution_count": 8,
   "metadata": {},
   "outputs": [
    {
     "data": {
      "text/html": [
       "<div>\n",
       "<style scoped>\n",
       "    .dataframe tbody tr th:only-of-type {\n",
       "        vertical-align: middle;\n",
       "    }\n",
       "\n",
       "    .dataframe tbody tr th {\n",
       "        vertical-align: top;\n",
       "    }\n",
       "\n",
       "    .dataframe thead th {\n",
       "        text-align: right;\n",
       "    }\n",
       "</style>\n",
       "<table border=\"1\" class=\"dataframe\">\n",
       "  <thead>\n",
       "    <tr style=\"text-align: right;\">\n",
       "      <th></th>\n",
       "      <th>bib</th>\n",
       "      <th>pub_html</th>\n",
       "    </tr>\n",
       "  </thead>\n",
       "  <tbody>\n",
       "  </tbody>\n",
       "</table>\n",
       "</div>"
      ],
      "text/plain": [
       "Empty DataFrame\n",
       "Columns: [bib, pub_html]\n",
       "Index: []"
      ]
     },
     "execution_count": 8,
     "metadata": {},
     "output_type": "execute_result"
    }
   ],
   "source": [
    "# Papers you have to download manually...\n",
    "import pandas as pd\n",
    "pd.DataFrame(manual)"
   ]
  },
  {
   "cell_type": "code",
   "execution_count": null,
   "metadata": {},
   "outputs": [],
   "source": []
  }
 ],
 "metadata": {
  "kernelspec": {
   "display_name": "Python 3",
   "language": "python",
   "name": "python3"
  },
  "language_info": {
   "codemirror_mode": {
    "name": "ipython",
    "version": 3
   },
   "file_extension": ".py",
   "mimetype": "text/x-python",
   "name": "python",
   "nbconvert_exporter": "python",
   "pygments_lexer": "ipython3",
   "version": "3.7.6"
  },
  "varInspector": {
   "cols": {
    "lenName": 16,
    "lenType": 16,
    "lenVar": 40
   },
   "kernels_config": {
    "python": {
     "delete_cmd_postfix": "",
     "delete_cmd_prefix": "del ",
     "library": "var_list.py",
     "varRefreshCmd": "print(var_dic_list())"
    },
    "r": {
     "delete_cmd_postfix": ") ",
     "delete_cmd_prefix": "rm(",
     "library": "var_list.r",
     "varRefreshCmd": "cat(var_dic_list()) "
    }
   },
   "types_to_exclude": [
    "module",
    "function",
    "builtin_function_or_method",
    "instance",
    "_Feature"
   ],
   "window_display": false
  }
 },
 "nbformat": 4,
 "nbformat_minor": 2
}
